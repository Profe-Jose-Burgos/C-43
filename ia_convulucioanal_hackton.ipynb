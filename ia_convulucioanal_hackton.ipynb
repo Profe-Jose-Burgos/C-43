{
  "nbformat": 4,
  "nbformat_minor": 0,
  "metadata": {
    "colab": {
      "provenance": [],
      "authorship_tag": "ABX9TyOeJOfAibQM5Afd3wxMHIoX",
      "include_colab_link": true
    },
    "kernelspec": {
      "name": "python3",
      "display_name": "Python 3"
    },
    "language_info": {
      "name": "python"
    }
  },
  "cells": [
    {
      "cell_type": "markdown",
      "metadata": {
        "id": "view-in-github",
        "colab_type": "text"
      },
      "source": [
        "<a href=\"https://colab.research.google.com/github/Profe-Jose-Burgos/C-43/blob/main/ia_convulucioanal_hackton.ipynb\" target=\"_parent\"><img src=\"https://colab.research.google.com/assets/colab-badge.svg\" alt=\"Open In Colab\"/></a>"
      ]
    },
    {
      "cell_type": "code",
      "execution_count": 2,
      "metadata": {
        "colab": {
          "base_uri": "https://localhost:8080/"
        },
        "id": "xnvZK-3KjMGd",
        "outputId": "04f21553-33a2-48b1-957a-acbb5d1f1e6b"
      },
      "outputs": [
        {
          "output_type": "stream",
          "name": "stdout",
          "text": [
            "mkdir: cannot create directory ‘coupe’: File exists\n"
          ]
        }
      ],
      "source": [
        "!mkdir coupe\n",
        "!mkdir deportivos\n",
        "!mkdir pickup\n",
        "!mkdir camioneta\n",
        "!mkdir sedan"
      ]
    },
    {
      "cell_type": "code",
      "source": [
        "%cd coupe\n",
        "!unzip copues.zip\n",
        "%cd ..\n",
        "\n",
        "%cd camioneta\n",
        "!unzip camionetas.zip\n",
        "%cd ..\n",
        "\n",
        "%cd sedan\n",
        "!unzip sedanes.zip\n",
        "%cd ..\n",
        "\n",
        "%cd pickup\n",
        "!unzip pickups.zip\n",
        "%cd ..\n",
        "\n",
        "%cd deportivo\n",
        "!unzip deportivos.zip\n",
        "%cd .."
      ],
      "metadata": {
        "colab": {
          "base_uri": "https://localhost:8080/"
        },
        "id": "qezIXNtbj4MV",
        "outputId": "7692be96-987f-42df-8338-f0d2b68f2944"
      },
      "execution_count": 3,
      "outputs": [
        {
          "output_type": "stream",
          "name": "stdout",
          "text": [
            "/content/coupe\n",
            "unzip:  cannot find or open copues.zip, copues.zip.zip or copues.zip.ZIP.\n",
            "/content\n",
            "/content/camioneta\n",
            "unzip:  cannot find or open camionetas.zip, camionetas.zip.zip or camionetas.zip.ZIP.\n",
            "/content\n",
            "/content/sedan\n",
            "unzip:  cannot find or open sedanes.zip, sedanes.zip.zip or sedanes.zip.ZIP.\n",
            "/content\n",
            "/content/pickup\n",
            "unzip:  cannot find or open pickups.zip, pickups.zip.zip or pickups.zip.ZIP.\n",
            "/content\n",
            "[Errno 2] No such file or directory: 'deportivo'\n",
            "/content\n",
            "unzip:  cannot find or open deportivos.zip, deportivos.zip.zip or deportivos.zip.ZIP.\n",
            "/\n"
          ]
        }
      ]
    },
    {
      "cell_type": "code",
      "source": [
        " min_number = [!ls /content/deportivos | wc -l,  !ls /content/sedanes/ | wc -l, !ls /content/coupe | wc -l, !ls /content/camionetas | wc -l, !ls /content/pickups | wc -l, \n",
        " ]\n",
        " x = min(min_number)"
      ],
      "metadata": {
        "colab": {
          "base_uri": "https://localhost:8080/",
          "height": 153
        },
        "id": "y2tdJWePnTSA",
        "outputId": "263c54ef-8c91-4e12-f548-d102cca9e784"
      },
      "execution_count": 4,
      "outputs": [
        {
          "output_type": "error",
          "ename": "SyntaxError",
          "evalue": "ignored",
          "traceback": [
            "\u001b[0;36m  File \u001b[0;32m\"<ipython-input-4-eed979f1bee7>\"\u001b[0;36m, line \u001b[0;32m1\u001b[0m\n\u001b[0;31m    min_number = [!ls /content/deportivos | wc -l,  !ls /content/sedanes/ | wc -l, !ls /content/coupe | wc -l, !ls /content/camionetas | wc -l, !ls /content/pickups | wc -l,\u001b[0m\n\u001b[0m                  ^\u001b[0m\n\u001b[0;31mSyntaxError\u001b[0m\u001b[0;31m:\u001b[0m invalid syntax\n"
          ]
        }
      ]
    },
    {
      "cell_type": "code",
      "source": [
        "import shutil\n",
        "import os\n",
        "carpeta_fuente = '/content/deportivos'\n",
        "carpeta_destino = '/content/dataset/deportivos'\n",
        "def cambio_de_carpeta(carpeta_fuente,carpeta_destino):\n",
        "  imagenes = os.listdir(carpeta_fuente)\n",
        "\n",
        "  for i, nombreimg in enumerate(imagenes):\n",
        "    if i < x:\n",
        "      shutil.copy(carpeta_fuente + '/' + nombreimg, carpeta_destino + '/' + nombreimg)"
      ],
      "metadata": {
        "id": "EMSu4iPIlyKG"
      },
      "execution_count": null,
      "outputs": []
    },
    {
      "cell_type": "code",
      "source": [
        "import matplotlib.pyplot as plt\n",
        "import matplotlib.image as mpimg\n",
        "from tensorflow.keras.preprocessing.image import ImageDataGenerator\n",
        "import numpy as np\n",
        "\n",
        "data_gen = ImageDataGenerator{\n",
        "    rescale = 1. /255\n",
        "    rotation_range = 30\n",
        "    \n",
        "}"
      ],
      "metadata": {
        "id": "8UXhi7vLnP-P"
      },
      "execution_count": null,
      "outputs": []
    },
    {
      "cell_type": "code",
      "source": [],
      "metadata": {
        "id": "L-bKV_uksSnZ"
      },
      "execution_count": null,
      "outputs": []
    }
  ]
}
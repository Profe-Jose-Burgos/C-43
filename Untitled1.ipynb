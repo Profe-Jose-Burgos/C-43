{
  "nbformat": 4,
  "nbformat_minor": 0,
  "metadata": {
    "colab": {
      "provenance": [],
      "include_colab_link": true
    },
    "kernelspec": {
      "name": "python3",
      "display_name": "Python 3"
    },
    "language_info": {
      "name": "python"
    }
  },
  "cells": [
    {
      "cell_type": "markdown",
      "metadata": {
        "id": "view-in-github",
        "colab_type": "text"
      },
      "source": [
        "<a href=\"https://colab.research.google.com/github/Profe-Jose-Burgos/C-43/blob/main/Untitled1.ipynb\" target=\"_parent\"><img src=\"https://colab.research.google.com/assets/colab-badge.svg\" alt=\"Open In Colab\"/></a>"
      ]
    },
    {
      "cell_type": "markdown",
      "source": [],
      "metadata": {
        "id": "GTire1bvHvOI"
      }
    },
    {
      "cell_type": "markdown",
      "source": [
        "Progrmas cita\n",
        "que en la base de datos programe las cita en la que le persona valla a pagar y terminar de cotizar,"
      ],
      "metadata": {
        "id": "BZgEEpP4Hzz3"
      }
    },
    {
      "cell_type": "markdown",
      "source": [
        "que pueda elejir cualidades en el propio chatbot,como color,tapizadoy que envie imagines de como se veria "
      ],
      "metadata": {
        "id": "d7wnOVZEIJ0j"
      }
    },
    {
      "cell_type": "code",
      "source": [
        "biblioteca2 ={\"intents\":\n",
        "                [\n",
        "                    {\"tag\":\"accede_compra\",\n",
        "                    \"patterns\":[\"quiero el carro\",\n",
        "                                \"lo compro\",\n",
        "                                \"como procedemos con el pago\",\n",
        "                                \"donde pago\",\n",
        "                                \"como hago para pagar\",\n",
        "                                \"de una lo comprare \",\n",
        "                                \"en donde se efectuaria el pago\",\n",
        "                                \"quiero pagar,donde lo hago?\",\n",
        "                                \"cuando voy a pagar\"                      \n",
        "                                ],\n",
        "                    \"responses\":[\"de una vamos a efectuar el pago,en que provincia se encuentra usted  \"\n",
        "                                ],\n",
        "                    \"context\":[\"\"]\n",
        "                    },\n",
        "                 {\"tag\":\"panama\",\n",
        "                    \"patterns\":[\"estoy wen panaama\",\n",
        "                                \"estoy en la capial\",\n",
        "                                \"estoy en la iudad \",\n",
        "                                \"estoy en lka capital\",\n",
        "                                \"estoy en panama \",\n",
        "                                \"ciudad centro \",\n",
        "                                \"panama centro \",\n",
        "                                \"ciudad capital \",\n",
        "                                \"la capiyal\"                      \n",
        "                                ],\n",
        "                    \"responses\":[\"tenemos una sucursal,en chilibre,casco antiguo, y albrook mall, a cual desea ir   \"\n",
        "                                ],\n",
        "                    \"context\":[\"\"]\n",
        "                    },\n",
        "                 {\"tag\":\"sucursal_albrook_mall\",\n",
        "                    \"patterns\":[\"VOY A ALBROK\",\n",
        "                                \"IRE A albrol\",\n",
        "                                \"albrukmall\",\n",
        "                                \"albrukmol\",\n",
        "                                \"albrook mall\",\n",
        "                                \"al labrok\",\n",
        "                                \"al albroook\",                      \n",
        "                                ],\n",
        "                    \"responses\":[\"okay estos son nuestros horarios\"\n",
        "                                ],\n",
        "                    \"context\":[\"\"]\n",
        "                    },\n",
        "                 {\"tag\":\"chilibre\",\n",
        "                    \"patterns\":[\"VOY A chilibre\",\n",
        "                                \"IRE A cibrile\",\n",
        "                                \"chilibre\",\n",
        "                                \"ire a chilibre\",\n",
        "                                                      \n",
        "                                ],\n",
        "                    \"responses\":[\"okay estos son nuestros horarios\"\n",
        "                                ],\n",
        "                    \"context\":[\"\"]\n",
        "                    },\n",
        "                 {\"tag\":\"casco_antiguo\",\n",
        "                    \"patterns\":[\"VOY A casco antiguio\",\n",
        "                                \"IRE A casco viejo\",\n",
        "                                \"acsolco viejo \",\n",
        "                                \"ire casco viejo\",\n",
        "                                                      \n",
        "                                ],\n",
        "                    \"responses\":[\"okay estos son nuestros horarios\"\n",
        "                                ],\n",
        "                    \"context\":[\"\"]\n",
        "                    },\n",
        "                 {\"tag\":\"panama_oeste\",\n",
        "                    \"patterns\":[\"soy panama oeste\",\n",
        "                                \"la chorrera\",\n",
        "                                \"Capira\",\n",
        "                                \"Chame\",\n",
        "                                \"oeste\",\n",
        "                                \"la rpovincia 10 \",\n",
        "                                \"la ecima provincia \",\n",
        "                                \"panama oeste\",\n",
        "                                \"de oeste\"                      \n",
        "                                ],\n",
        "                    \"responses\":[\"okay tenemos cucursales en la chorrera y capira\"\n",
        "                                ],\n",
        "                    \"context\":[\"\"]\n",
        "                    },\n",
        "                 {\"tag\":\"chorrera\",\n",
        "                    \"patterns\":[\"La chorrera\",\n",
        "                                \"chodera\",\n",
        "                                \"chorrera \",\n",
        "                                \"a la chorrera\",\n",
        "                                \"a chorreara\",\n",
        "                                                      \n",
        "                                ],\n",
        "                    \"responses\":[\"okay estos son nuestros horarios\"\n",
        "                                ],\n",
        "                    \"context\":[\"\"]\n",
        "                    },\n",
        "                 \n",
        "                 {\"tag\":\"capira\",\n",
        "                    \"patterns\":[\"capiar\",\n",
        "                                \"capira\",\n",
        "                                \"coy capira  \",\n",
        "                                \"a carriap\",\n",
        "                                \"podre ira la de acpira \",\n",
        "                                                      \n",
        "                                ],\n",
        "                    \"responses\":[\"okay estos son nuestros horarios\"\n",
        "                                ],\n",
        "                    \"context\":[\"\"]\n",
        "                    },\n",
        "                 {\"tag\":\"chiriqui\",\n",
        "                    \"patterns\":[\"estoy en chiriqui \",\n",
        "                                \"chiriqui\",\n",
        "                                \"la mejor provincia\",\n",
        "                                \"chigui\",\n",
        "                                \"c-4\",\n",
        "                                \"en chiriqui \",\n",
        "                                         \n",
        "                                ],\n",
        "                    \"responses\":[\"okay tenemos sucursales en boquete y david centro   \"\n",
        "                                ],\n",
        "                    \"context\":[\"\"]\n",
        "                    },\n",
        "                 {\"tag\":\"david\",\n",
        "                    \"patterns\":[\"davis\",\n",
        "                                \"david centro \",\n",
        "                                \"davids  \",\n",
        "                                \"voy davidf\",\n",
        "                                \"me sale mas comodo a la de david \",\n",
        "                                                      \n",
        "                                ],\n",
        "                    \"responses\":[\"okay estos son nuestros horarios\"\n",
        "                                ],\n",
        "                    \"context\":[\"\"]\n",
        "                    },\n",
        "                 {\"tag\":\"boquete\",\n",
        "                    \"patterns\":[\"boquete\",\n",
        "                                \"a la de boquete\",\n",
        "                                \"A DE BOQUETE \",\n",
        "                                \"eme queda mmas cerca boquete\",\n",
        "                                \"me sale mas comodo a la de boquete \",\n",
        "                                                      \n",
        "                                ],\n",
        "                    \"responses\":[\"okay estos son nuestros horarios\"\n",
        "                                ],\n",
        "                    \"context\":[\"\"]\n",
        "                    },\n",
        "                 \n",
        "                 \n",
        "                    \n",
        "                ]\n",
        "}\n"
      ],
      "metadata": {
        "id": "Ma1TCb7TJx-K"
      },
      "execution_count": 2,
      "outputs": []
    },
    {
      "cell_type": "code",
      "source": [
        "import Ipython.core as HTML\n",
        "import pandas as pd\n",
        "pandas_datraframe = pd.DataFrame(biblioteca2)\n",
        "print(pandas_datraframe)"
      ],
      "metadata": {
        "colab": {
          "base_uri": "https://localhost:8080/"
        },
        "id": "y_pL1mELbFbI",
        "outputId": "53699324-bca3-44ca-a289-07c140934a4b"
      },
      "execution_count": 3,
      "outputs": [
        {
          "output_type": "stream",
          "name": "stdout",
          "text": [
            "                                              intents\n",
            "0   {'tag': 'accede_compra', 'patterns': ['quiero ...\n",
            "1   {'tag': 'panama', 'patterns': ['estoy wen pana...\n",
            "2   {'tag': 'sucursal_albrook_mall', 'patterns': [...\n",
            "3   {'tag': 'chilibre', 'patterns': ['VOY A chilib...\n",
            "4   {'tag': 'casco_antiguo', 'patterns': ['VOY A c...\n",
            "5   {'tag': 'panama_oeste', 'patterns': ['soy pana...\n",
            "6   {'tag': 'chorrera', 'patterns': ['La chorrera'...\n",
            "7   {'tag': 'capira', 'patterns': ['capiar', 'capi...\n",
            "8   {'tag': 'chiriqui', 'patterns': ['estoy en chi...\n",
            "9   {'tag': 'david', 'patterns': ['davis', 'david ...\n",
            "10  {'tag': 'boquete', 'patterns': ['boquete', 'a ...\n"
          ]
        }
      ]
    }
  ]
}